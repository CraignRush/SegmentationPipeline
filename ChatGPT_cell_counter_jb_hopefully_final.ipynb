{
 "cells": [
  {
   "cell_type": "code",
   "execution_count": 32,
   "metadata": {},
   "outputs": [],
   "source": [
    "import cv2\n",
    "import numpy as np\n",
    "import os\n",
    "import pandas as pd\n",
    "import re"
   ]
  },
  {
   "cell_type": "code",
   "execution_count": 33,
   "metadata": {},
   "outputs": [],
   "source": [
    "##### Modify here #####\n",
    "# Folder Structure:\n",
    "#   Condition\n",
    "#       |\n",
    "#       ----- Replicate 1-x\n",
    "#                   |\n",
    "#                   ------- Fiji-Macro - generated Image Folders\n",
    "\n",
    "#condition_folder = '/Volumes/msdata/flwilfli/Lab/users/Jeremy/Nikon/GFP-Ede1-GFP+3xGBP_20h_Rapa_starvation/20hRapa/'\n",
    "condition_folder = r'/Volumes/msdata/flwilfli/Lab/users/Jeremy/Nikon/GFP-Ede1-GFP+3xGBP_20h_Rapa_starvation/20hRapa/'\n",
    "\n",
    "#################\n",
    "\n",
    "#Switch this\n",
    "replicate_folder = [name for name in os.listdir(condition_folder) if os.path.isdir(os.path.join(condition_folder,name))]\n",
    "#replicate_folder = [\"Replicate 1\"]\n",
    "\n",
    "\n",
    "roi_results = pd.DataFrame(columns=['Replicate','Cell Mask Name','Punctae Mask Name', 'Total Cells', 'Total Punctae','Cells with punctae', 'Cells w/o punctae'])\n",
    "\n",
    "ri = 0\n",
    "img_cells_mask,img_punctae_mask = {},{}\n",
    "for r in replicate_folder:\n",
    "    img_cells_mask[ri] = [name for name in os.listdir(os.path.join(condition_folder,r,'cells_mask')) \n",
    "    if  (os.path.join(condition_folder,r,'cells_mask',name)).endswith('mask.tif')]\n",
    "    img_cells_mask[ri].sort(key = lambda s: re.findall(r'_\\d+_',s))\n",
    "    img_punctae_mask[ri] = [name for name in os.listdir(os.path.join(condition_folder,r,'punctae_mask')) \n",
    "    if (os.path.join(condition_folder,r,'punctae_mask',name)).endswith('nd2_mask.tif')]\n",
    "    \n",
    "    \n",
    "    img_punctae_mask[ri].sort(key = lambda s: re.findall(r'_\\d+_',s))\n",
    "    \n",
    "    \n",
    "    #break  # <--- remove this\n",
    "    ri += 1\n",
    "\n"
   ]
  },
  {
   "cell_type": "code",
   "execution_count": 34,
   "metadata": {},
   "outputs": [],
   "source": [
    "def count_objects(file_path_roi, file_path_signal):\n",
    "    # Read the ROI image file\n",
    "    img_roi = cv2.imread(file_path_roi, cv2.IMREAD_GRAYSCALE)\n",
    "\n",
    "    # Read the signal image file\n",
    "    img_signal = cv2.imread(file_path_signal, cv2.IMREAD_GRAYSCALE)\n",
    "\n",
    "    # Threshold the images to create binary images\n",
    "    thresh_roi = cv2.threshold(img_roi, 0, 255, cv2.THRESH_BINARY)[1]\n",
    "    thresh_signal = cv2.threshold(img_signal, 0, 255, cv2.THRESH_BINARY)[1]\n",
    "\n",
    "    # Invert the binary images (to make objects white and background black)\n",
    "    inverted_roi = cv2.bitwise_not(thresh_roi)\n",
    "    inverted_signal = cv2.bitwise_not(thresh_signal)\n",
    "\n",
    "    # Find contours in the inverted images\n",
    "    contours_roi, hierarchy = cv2.findContours(inverted_roi, cv2.RETR_EXTERNAL, cv2.CHAIN_APPROX_SIMPLE)\n",
    "    contours_signal, hierarchy = cv2.findContours(inverted_signal, cv2.RETR_EXTERNAL, cv2.CHAIN_APPROX_SIMPLE)\n",
    "\n",
    "    # Count the number of ROI contours (i.e., objects) found\n",
    "    roi_count = len(contours_roi)\n",
    "\n",
    "    # Count the number of signal contours (i.e., objects) found\n",
    "    signal_count = len(contours_signal)\n",
    "\n",
    "    # Count the number of ROI contours that have at least one signal inside\n",
    "    roi_with_signal_count = 0\n",
    "\n",
    "    for roi_contour in contours_roi:\n",
    "        for signal_contour in contours_signal:\n",
    "            signal_point = tuple(signal_contour[0][0].astype(float))\n",
    "            if cv2.pointPolygonTest(roi_contour, signal_point, False) >= 0:\n",
    "                roi_with_signal_count += 1\n",
    "                break\n",
    "\n",
    "    # Count the number of ROI contours that have no signal inside\n",
    "    roi_without_signal_count = roi_count - roi_with_signal_count\n",
    "    return roi_count, signal_count, roi_with_signal_count, roi_without_signal_count\n"
   ]
  },
  {
   "cell_type": "code",
   "execution_count": 35,
   "metadata": {},
   "outputs": [],
   "source": [
    "#os.path.join(condition_folder,replicate_folder[0], roi_results.loc[0, 'Cell Mask Name'])\n",
    "#roi_results.loc[1,'Cell Mask Name']                                                                 "
   ]
  },
  {
   "cell_type": "code",
   "execution_count": 36,
   "metadata": {},
   "outputs": [
    {
     "name": "stdout",
     "output_type": "stream",
     "text": [
      "ROI Count:  0      64\n",
      "1      77\n",
      "2     102\n",
      "3     116\n",
      "4      85\n",
      "5     122\n",
      "6      94\n",
      "7      73\n",
      "8      71\n",
      "9      59\n",
      "10     78\n",
      "Name: Total Cells, dtype: object\n",
      "Signal Count:  0     137\n",
      "1      76\n",
      "2      91\n",
      "3     112\n",
      "4     122\n",
      "5     134\n",
      "6     100\n",
      "7      91\n",
      "8      99\n",
      "9     119\n",
      "10    139\n",
      "Name: Total Punctae, dtype: object\n",
      "ROI with Signal Count:  0      3\n",
      "1      6\n",
      "2      5\n",
      "3     10\n",
      "4     13\n",
      "5     13\n",
      "6      8\n",
      "7      4\n",
      "8      7\n",
      "9      5\n",
      "10    10\n",
      "Name: Cells with punctae, dtype: object\n",
      "ROI without Signal Count:  0      61\n",
      "1      71\n",
      "2      97\n",
      "3     106\n",
      "4      72\n",
      "5     109\n",
      "6      86\n",
      "7      69\n",
      "8      64\n",
      "9      54\n",
      "10     68\n",
      "Name: Cells w/o punctae, dtype: object\n"
     ]
    }
   ],
   "source": [
    "for r in range(0,len(replicate_folder)):\n",
    "    for c in range(0,len(img_cells_mask[r])):\n",
    "        row = (r)*(len(img_cells_mask[r])) + c        \n",
    "        roi_results.loc[row,'Replicate'] = replicate_folder[r]\n",
    "        roi_results.loc[row, 'Cell Mask Name']       = img_cells_mask[r][c]\n",
    "        roi_results.loc[row, 'Punctae Mask Name']    = img_punctae_mask[r][c]\n",
    "        (roi_results.loc[row, 'Total Cells'], roi_results.loc[row,'Total Punctae'], roi_results.loc[row,'Cells with punctae'],\n",
    "        roi_results.loc[row, 'Cells w/o punctae'])    = count_objects(os.path.join(condition_folder,replicate_folder[r],'cells_mask', roi_results.loc[row, 'Cell Mask Name']) ,\n",
    "                                                                     os.path.join(condition_folder,replicate_folder[r],'punctae_mask',  roi_results.loc[row, 'Punctae Mask Name']) )\n",
    "  #  break  # <--- remove this\n",
    "print(\"ROI Count: \", roi_results['Total Cells'])\n",
    "print(\"Signal Count: \", roi_results['Total Punctae'])\n",
    "print(\"ROI with Signal Count: \",roi_results['Cells with punctae'])\n",
    "print(\"ROI without Signal Count: \", roi_results['Cells w/o punctae'])\n",
    "\n",
    "roi_results.to_excel(os.path.join(condition_folder,replicate_folder[r],'Final_really_hopefully_result.xlsx'))"
   ]
  },
  {
   "cell_type": "code",
   "execution_count": null,
   "metadata": {},
   "outputs": [],
   "source": []
  },
  {
   "cell_type": "code",
   "execution_count": null,
   "metadata": {},
   "outputs": [],
   "source": []
  }
 ],
 "metadata": {
  "kernelspec": {
   "display_name": "Python 3 (ipykernel)",
   "language": "python",
   "name": "python3"
  },
  "language_info": {
   "codemirror_mode": {
    "name": "ipython",
    "version": 3
   },
   "file_extension": ".py",
   "mimetype": "text/x-python",
   "name": "python",
   "nbconvert_exporter": "python",
   "pygments_lexer": "ipython3",
   "version": "3.9.7"
  },
  "vscode": {
   "interpreter": {
    "hash": "26de051ba29f2982a8de78e945f0abaf191376122a1563185a90213a26c5da77"
   }
  }
 },
 "nbformat": 4,
 "nbformat_minor": 2
}
